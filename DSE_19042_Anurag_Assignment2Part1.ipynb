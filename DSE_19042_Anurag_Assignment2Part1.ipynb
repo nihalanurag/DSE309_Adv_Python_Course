{
  "nbformat": 4,
  "nbformat_minor": 0,
  "metadata": {
    "kernelspec": {
      "display_name": "Python 3",
      "language": "python",
      "name": "python3"
    },
    "language_info": {
      "codemirror_mode": {
        "name": "ipython",
        "version": 3
      },
      "file_extension": ".py",
      "mimetype": "text/x-python",
      "name": "python",
      "nbconvert_exporter": "python",
      "pygments_lexer": "ipython3",
      "version": "3.7.6"
    },
    "colab": {
      "name": "DSE_19042_Anurag_Assignment2Part1.ipynb",
      "provenance": [],
      "collapsed_sections": []
    }
  },
  "cells": [
    {
      "cell_type": "markdown",
      "metadata": {
        "id": "5SX9lrhoQyWh"
      },
      "source": [
        "## Assignment 2 \n",
        "### Due Date: 26 September 2021, Sunday, 11.00 am"
      ]
    },
    {
      "cell_type": "markdown",
      "metadata": {
        "id": "isY6GGT6QyWl"
      },
      "source": [
        "### Example: Basic Numpy\n",
        "\n",
        "(1) Create a NumPy array with the integers from your birthdate (year,\n",
        "    month, and day)\n",
        "\n",
        "(2) Retrieve the year.\n",
        "\n",
        "(3) Replace the year with the current year.\n",
        "\n",
        "(4) Create a NumPy array containing every 3rd number from 567 to 890. What is the 8th number in this array?  What is the 15th?"
      ]
    },
    {
      "cell_type": "code",
      "metadata": {
        "id": "0oh_XrzXQyWm"
      },
      "source": [
        "import numpy as np"
      ],
      "execution_count": 1,
      "outputs": []
    },
    {
      "cell_type": "code",
      "metadata": {
        "id": "ZWhpSc5EQyWo"
      },
      "source": [
        "# 1\n",
        "a = np.array([1986, 12, 24])"
      ],
      "execution_count": 2,
      "outputs": []
    },
    {
      "cell_type": "code",
      "metadata": {
        "id": "zd1l7luYQyWo",
        "colab": {
          "base_uri": "https://localhost:8080/"
        },
        "outputId": "07ee2698-549c-4283-c0e9-375ebb7d3090"
      },
      "source": [
        "# 2\n",
        "a[0]"
      ],
      "execution_count": 3,
      "outputs": [
        {
          "output_type": "execute_result",
          "data": {
            "text/plain": [
              "1986"
            ]
          },
          "metadata": {},
          "execution_count": 3
        }
      ]
    },
    {
      "cell_type": "code",
      "metadata": {
        "id": "nHWrqSgUQyWq"
      },
      "source": [
        "# 3\n",
        "a[0] = 2021"
      ],
      "execution_count": 4,
      "outputs": []
    },
    {
      "cell_type": "code",
      "metadata": {
        "id": "BJI6qOwIQyWq",
        "colab": {
          "base_uri": "https://localhost:8080/"
        },
        "outputId": "c9b4b1d3-e72c-45e1-96bc-949e22a4804c"
      },
      "source": [
        "# 4\n",
        "a= np.arange(567, 890, 3)\n",
        "a"
      ],
      "execution_count": 5,
      "outputs": [
        {
          "output_type": "execute_result",
          "data": {
            "text/plain": [
              "array([567, 570, 573, 576, 579, 582, 585, 588, 591, 594, 597, 600, 603,\n",
              "       606, 609, 612, 615, 618, 621, 624, 627, 630, 633, 636, 639, 642,\n",
              "       645, 648, 651, 654, 657, 660, 663, 666, 669, 672, 675, 678, 681,\n",
              "       684, 687, 690, 693, 696, 699, 702, 705, 708, 711, 714, 717, 720,\n",
              "       723, 726, 729, 732, 735, 738, 741, 744, 747, 750, 753, 756, 759,\n",
              "       762, 765, 768, 771, 774, 777, 780, 783, 786, 789, 792, 795, 798,\n",
              "       801, 804, 807, 810, 813, 816, 819, 822, 825, 828, 831, 834, 837,\n",
              "       840, 843, 846, 849, 852, 855, 858, 861, 864, 867, 870, 873, 876,\n",
              "       879, 882, 885, 888])"
            ]
          },
          "metadata": {},
          "execution_count": 5
        }
      ]
    },
    {
      "cell_type": "code",
      "metadata": {
        "id": "lv81tXZKQyWr",
        "colab": {
          "base_uri": "https://localhost:8080/"
        },
        "outputId": "1197bace-d389-4a97-c1dc-eab63a1b9a2a"
      },
      "source": [
        "a[8]"
      ],
      "execution_count": 6,
      "outputs": [
        {
          "output_type": "execute_result",
          "data": {
            "text/plain": [
              "591"
            ]
          },
          "metadata": {},
          "execution_count": 6
        }
      ]
    },
    {
      "cell_type": "code",
      "metadata": {
        "id": "aWsWyhdvQyWt",
        "colab": {
          "base_uri": "https://localhost:8080/"
        },
        "outputId": "1653481a-8c3e-4dcf-d8b0-6b4c2dc70112"
      },
      "source": [
        "a[15]"
      ],
      "execution_count": 7,
      "outputs": [
        {
          "output_type": "execute_result",
          "data": {
            "text/plain": [
              "612"
            ]
          },
          "metadata": {},
          "execution_count": 7
        }
      ]
    },
    {
      "cell_type": "markdown",
      "metadata": {
        "id": "POKpW4lNQyWt"
      },
      "source": [
        "### Exercise 1 Basic Numpy\n",
        "\n",
        "(1) Create an array of 10 random integers, from 0-100.\n",
        "\n",
        "(2) Find the mean and standard deviation of these numbers.  \n",
        "\n",
        "(3) Create another array of 10 random integers, from 0-100.\n",
        "\n",
        "(4) Create a new array whose elements are the average of those from\n",
        "    each of the previous ones.  \n",
        "\n",
        "(5) Create an array of 10 random floats, from 0-100.\n",
        "\n",
        "(6) We would expect the mean to be approaximately 50.  Is it?  What's\n",
        "    the standard deviation?\n",
        "\n",
        "(7) What are the min and max values?"
      ]
    },
    {
      "cell_type": "code",
      "metadata": {
        "colab": {
          "base_uri": "https://localhost:8080/"
        },
        "id": "wa69dw6iRTN2",
        "outputId": "6b61007b-d307-4060-a3a0-f13e963ed9d9"
      },
      "source": [
        "a = np.random.randint(0, 101, 10) #1\n",
        "print(f\"Mean of the array {a} is {a.mean()} and Standard Deviation is {a.std()}\") #2\n",
        "b = np.random.randint(0, 101, 10) #3\n",
        "print(\"second array:\\n\", b)\n",
        "c = (a+b)/2 #4\n",
        "print(f\"new array whose elements are the average of those from each of the previous ones:\\n{c}\")\n",
        "d = np.random.uniform(low=0.0, high=100.00000001, size=10) #5\n",
        "#6\n",
        "if d.mean()==50:\n",
        "  print(f\"Mean of the array {d} is {d.mean()} and Standard Deviation is {d.std()}\")\n",
        "else: \n",
        "  print(f\"Mean of the array {d} is not 50, but, {d.mean()} and Standard Deviation is {d.std()}\")\n",
        "print(f\"Min and Max values of {d} is {d.min()} and {d.max()} respectively.\") #7"
      ],
      "execution_count": 16,
      "outputs": [
        {
          "output_type": "stream",
          "name": "stdout",
          "text": [
            "Mean of the array [24 81 17 87 88 81 13 22  6 81] is 50.0 and Standard Deviation is 33.98529093593286\n",
            "second array:\n",
            " [54 12 91 84 27 65 31  1 82  1]\n",
            "new array whose elements are the average of those from each of the previous ones:\n",
            "[39.  46.5 54.  85.5 57.5 73.  22.  11.5 44.  41. ]\n",
            "Mean of the array [55.97647538 28.42038943 36.51568938 46.43522494 99.11620471 32.98754559\n",
            " 68.33977993 17.81566966 33.22570145 84.08431487] is not 50, but, 50.29169953349272 and Standard Deviation is 24.92429065700706\n",
            "Min and Max values of [55.97647538 28.42038943 36.51568938 46.43522494 99.11620471 32.98754559\n",
            " 68.33977993 17.81566966 33.22570145 84.08431487] is 17.815669662801984 and 99.11620470799555 respectively.\n"
          ]
        }
      ]
    },
    {
      "cell_type": "markdown",
      "metadata": {
        "id": "lriXuGEkQyWu"
      },
      "source": [
        "### Exercise 2 Indexing\n",
        "\n",
        "(1) Create an array of 20 random integers from 0 to 100.\n",
        "\n",
        "(2) Find the largest even number.\n",
        "\n",
        "(3) Find the mean of the odd numbers.\n",
        "\n",
        "(4) Create a NumPy array from the first and last odd numbers.\n",
        "\n",
        "(5) Create an array of 20 floats from 0-1,000.\n",
        "\n",
        "(6) Find the items that are less than the mean.\n",
        "\n",
        "(7) Find the items less than mean-std."
      ]
    },
    {
      "cell_type": "code",
      "metadata": {
        "colab": {
          "base_uri": "https://localhost:8080/"
        },
        "id": "Yjt6ZONGXScf",
        "outputId": "8f58723c-6a1b-443c-998b-29cf72efde12"
      },
      "source": [
        "a = np.random.randint(0, 101, 20) #1\n",
        "\n",
        "# for #2\n",
        "even_a = np.array([x for x in a if x%2==0])\n",
        "print(f\"the largest even number in the array {a} is {even_a.max()}\")\n",
        "\n",
        "# for #3\n",
        "odd_a = np.array([x for x in a if x%2==1])\n",
        "print(f\"the mean of odd number in the array {a} is {odd_a.mean()}\")\n",
        "\n",
        "b = np.arange(odd_a[0], odd_a[-1]) #4\n",
        "\n",
        "c = np.random.uniform(low=0.0, high=1000.00000001, size=20) #5\n",
        "print(f\"Items that are less than the mean of {c} i.e., ({c.mean()}) are {np.array([x for x in c if x < c.mean()])}\") #6\n",
        "print(f\"Items that are less than the mean-std of {c} i.e., ({c.mean()-c.std()}) are {np.array([x for x in c if x < (c.mean()-c.std())])}\") #7"
      ],
      "execution_count": 9,
      "outputs": [
        {
          "output_type": "stream",
          "name": "stdout",
          "text": [
            "the largest even number in the array [23 70  5 48 42 18 48 11 68 23  4 27 17  6 28 98 34 85 57 23] is 98\n",
            "the mean of odd number in the array [23 70  5 48 42 18 48 11 68 23  4 27 17  6 28 98 34 85 57 23] is 30.11111111111111\n",
            "Items that are less than the mean of [518.79218911 767.13694008 302.78029574 299.24095461 728.68853565\n",
            " 952.53886976 863.43882116 928.06145953 957.87546384 399.582443\n",
            " 459.14977486  66.1606962  825.91778487 557.92598887 351.94291439\n",
            " 885.51060639 720.66685316 726.05022979 615.78999408  23.9326068 ] i.e., (597.5591710948113) are [518.79218911 302.78029574 299.24095461 399.582443   459.14977486\n",
            "  66.1606962  557.92598887 351.94291439  23.9326068 ]\n",
            "Items that are less than the mean-std of [518.79218911 767.13694008 302.78029574 299.24095461 728.68853565\n",
            " 952.53886976 863.43882116 928.06145953 957.87546384 399.582443\n",
            " 459.14977486  66.1606962  825.91778487 557.92598887 351.94291439\n",
            " 885.51060639 720.66685316 726.05022979 615.78999408  23.9326068 ] i.e., (318.0462343383667) are [302.78029574 299.24095461  66.1606962   23.9326068 ]\n"
          ]
        }
      ]
    },
    {
      "cell_type": "markdown",
      "metadata": {
        "id": "mp0AdaaMQyWv"
      },
      "source": [
        "### Exercise 3 More indexing\n",
        "\n",
        "(1) Create a NumPy array of 20 random integers from 0-100.\n",
        "\n",
        "(2) What's the smallest even number greater than the mean?\n",
        "\n",
        "(3) Show all numbers either < mean-std OR > mean+std.\n",
        "\n",
        "(4) Show odd numbers < mean and even numbers > mean."
      ]
    },
    {
      "cell_type": "code",
      "metadata": {
        "colab": {
          "base_uri": "https://localhost:8080/"
        },
        "id": "b7CrXo0ufJBH",
        "outputId": "ca2133b7-d1d4-49cd-cd64-5930dc15fff3"
      },
      "source": [
        "a = np.random.randint(0, 101, 20) #1\n",
        "print(f\"the smallest even number greater than the mean in the array \\n \\\n",
        "{a} is {np.array([x for x in a if (x>a.mean() and x%2==0)])[0]}\") #2\n",
        "\n",
        "print(f\"all numbers either < mean-std OR > mean+std in the array \\n \\\n",
        "{a} is {np.array([x for x in a if (x>a.mean()+a.std() or x<a.mean()-a.std())])}\") #3\n",
        "\n",
        "print(f\"odd numbers < mean {a.mean()} and even numbers > mean {a.mean()} in the array \\n \\\n",
        "{a} is {np.array([x for x in a if ((x%2==0 and x>a.mean()) or (x%2==1 and x<a.mean()))])}\") #4"
      ],
      "execution_count": 10,
      "outputs": [
        {
          "output_type": "stream",
          "name": "stdout",
          "text": [
            "the smallest even number greater than the mean in the array \n",
            " [82 31 44 74 93 67 58 36  5 86 10 97 61  0 38 16 50 40 28 44] is 82\n",
            "all numbers either < mean-std OR > mean+std in the array \n",
            " [82 31 44 74 93 67 58 36  5 86 10 97 61  0 38 16 50 40 28 44] is [82 93  5 86 10 97  0 16]\n",
            "odd numbers < mean 48.0 and even numbers > mean 48.0 in the array \n",
            " [82 31 44 74 93 67 58 36  5 86 10 97 61  0 38 16 50 40 28 44] is [82 31 74 58  5 86 50]\n"
          ]
        }
      ]
    },
    {
      "cell_type": "markdown",
      "metadata": {
        "id": "sBH4dmT4QyWv"
      },
      "source": [
        "### Exercise 4 Assigning via indexes\n",
        "\n",
        "(1) Create a NumPy array of 40 random integers, from 0-100.\n",
        "\n",
        "(2) Find all numbers that are within 1 standard deviation of the mean,\n",
        "    and set them to be equal to the mean.  Has the mean changed?  Has\n",
        "    the std changed?\n",
        "\n",
        "(3) Create another NumPy array of 10 random integers, from 0-100.\n",
        "\n",
        "(4) Set the item at the even indexes to be equal to the items at the odd\n",
        "    indexes.  So index 0 will get the value at index 1, etc.\n"
      ]
    },
    {
      "cell_type": "code",
      "metadata": {
        "colab": {
          "base_uri": "https://localhost:8080/"
        },
        "id": "ABfm4C9cj4a0",
        "outputId": "1a869097-28a0-4dea-c969-f1ab5b089d20"
      },
      "source": [
        "a = np.random.randint(0, 101, 40) #1\n",
        "print(f\"created a numpy array:\\n{a}\")\n",
        "prev_a_mean, prev_a_std = a.mean(), a.std()\n",
        "print(f\"original mean and std are {prev_a_mean} and {prev_a_std}\")\n",
        "\n",
        "# for #2\n",
        "print(\"checking whether mean changed or the std changed...\")\n",
        "a[(a<a.mean()+a.std()) & (a>a.mean()-a.std())]=a.mean()\n",
        "if prev_a_mean != a.mean():\n",
        "  print(f\"Mean has changed from {prev_a_mean} to {a.mean()}\")\n",
        "else: print(\"Mean is same!\")\n",
        "if prev_a_std != a.std():\n",
        "  print(\"standard deviation has changed\")\n",
        "else: print(\"standard deviation is same!\")\n",
        "\n",
        "b = np.random.randint(0, 101, 10) #3\n",
        "print(f\"created a numpy array {b}\")\n",
        "# for #4\n",
        "for i in range(0, len(b), 2):\n",
        "  b[i] = b[i+1]\n",
        "print(f\"After processing:\\n{b}\")"
      ],
      "execution_count": 11,
      "outputs": [
        {
          "output_type": "stream",
          "name": "stdout",
          "text": [
            "created a numpy array:\n",
            "[ 3 12  1 18 70 32 36 83  1 13 87 74 94 71 41 53 57  4 71 95 44  1 27 12\n",
            " 21 28 51 34 51 22 30 14 87 28  0 22 80 13 58 18]\n",
            "original mean and std are 38.925 and 29.137937040909396\n",
            "checking whether mean changed or the std changed...\n",
            "Mean has changed from 38.925 to 43.35\n",
            "standard deviation has changed\n",
            "created a numpy array [96 65 76 69 66 55 94  7  9 51]\n",
            "After processing:\n",
            "[65 65 69 69 55 55  7  7 51 51]\n"
          ]
        }
      ]
    },
    {
      "cell_type": "markdown",
      "metadata": {
        "id": "UF2kpH_wQyWw"
      },
      "source": [
        "### Exercise 5 Data types\n",
        "\n",
        "(1) Create a NumPy array of 10 random integers from 0-100.\n",
        "\n",
        "(2) Calculate the mean, which will be a float.\n",
        "\n",
        "(3) Create an array of type float based on it, and replace the\n",
        "    outliers (i.e., <mean-std or >mean+std) with the mean.\n",
        "\n",
        "(4) Create a NumPy array of 20 random floats from 0-100.\n",
        "\n",
        "(5) Replace those numbers whose int portion is even with the mean.\n",
        "    (So 20.5 would be replaced, but 21.5 would not be.)"
      ]
    },
    {
      "cell_type": "code",
      "metadata": {
        "colab": {
          "base_uri": "https://localhost:8080/"
        },
        "id": "2QJ89k7T4XSu",
        "outputId": "61e4250b-9565-4a1d-ed50-34bfed3c4d91"
      },
      "source": [
        "a = np.random.randint(0, 101, 10) #1\n",
        "print(f\"Mean of array {a}:\\n{a.mean()}\") #2\n",
        "\n",
        "# for #3\n",
        "b = np.random.normal(loc=a.mean(), scale=a.std(), size=10)\n",
        "b = np.array([x for x in b if ((x<b.mean()+b.std()) and (x>b.mean()-b.std()))])\n",
        "print(f\"Array \\n after replacing outliers:\\n{b}\")\n",
        "\n",
        "c = np.random.uniform(low=0.0, high=1000.00000001, size=20) #4\n",
        "\n",
        "# for #5\n",
        "mean_of_c = c.mean()\n",
        "print(f\"Mean of array {c} is \\n{c.mean()}\")\n",
        "for idx in range(len(c)):\n",
        "  if int(c[idx])%2==0:\n",
        "    c[idx] = mean_of_c\n",
        "print(f\"Array after replacing :\\n {c}\")"
      ],
      "execution_count": 12,
      "outputs": [
        {
          "output_type": "stream",
          "name": "stdout",
          "text": [
            "Mean of array [75 47  5 86 16 66  2 27 45  9]:\n",
            "37.8\n",
            "Array \n",
            " after replacing outliers:\n",
            "[52.21251445 42.58107166 63.20214828 44.64355867 55.27989806 60.51171146]\n",
            "Mean of array [613.90488535 367.16447454 634.69115717  73.70895786 520.80343368\n",
            " 159.28363051 106.54595714 679.86789193 878.95288914 173.70190945\n",
            " 525.88372375  44.09329445 933.06014759  68.23808698 256.7730699\n",
            " 583.60277156  11.36043386 519.92962092 903.29723335 378.18026899] is \n",
            "421.6521919069138\n",
            "Array after replacing :\n",
            " [613.90488535 367.16447454 421.65219191  73.70895786 421.65219191\n",
            " 159.28363051 421.65219191 679.86789193 421.65219191 173.70190945\n",
            " 525.88372375 421.65219191 933.06014759 421.65219191 421.65219191\n",
            " 583.60277156  11.36043386 519.92962092 903.29723335 421.65219191]\n"
          ]
        }
      ]
    },
    {
      "cell_type": "markdown",
      "metadata": {
        "id": "54eP4FlrQyWx"
      },
      "source": [
        "### Exercise 6 nan\n",
        "\n",
        "(1) Create a NumPy array of 30 random ints from 0-1000.\n",
        "\n",
        "(2) Find the numbers that are <mean-std or >mean+std, and set them to\n",
        "    be nan\n",
        "\n",
        "(3) Now change those nan values to be the mean of the array's\n",
        "    elements."
      ]
    },
    {
      "cell_type": "code",
      "metadata": {
        "id": "uTBeDkdANK--",
        "colab": {
          "base_uri": "https://localhost:8080/"
        },
        "outputId": "861ed845-d67c-4358-f2d2-2c9a98adede8"
      },
      "source": [
        "a = np.random.randint(0, 101, 10) #1\n",
        "print(f\"array {a}\")\n",
        "a = np.array([np.NaN if ((x<a.mean()+a.std()) and (x>a.mean()-a.std())) else x for x in a]) #2\n",
        "print(f\"array after setting required values with nan:\\n {a}\")\n",
        "# for #3\n",
        "for ids in np.where(np.isnan(a)):\n",
        "  a[ids] = np.nanmean(a)\n",
        "print(f\"array after setting nan values with mean:\\n {a}\")"
      ],
      "execution_count": 13,
      "outputs": [
        {
          "output_type": "stream",
          "name": "stdout",
          "text": [
            "array [ 9 91 69 20 43 97 41  9 42 16]\n",
            "array after setting required values with nan:\n",
            " [ 9. 91. nan nan nan 97. nan  9. nan nan]\n",
            "array after setting nan values with mean:\n",
            " [ 9.  91.  51.5 51.5 51.5 97.  51.5  9.  51.5 51.5]\n"
          ]
        }
      ]
    },
    {
      "cell_type": "markdown",
      "metadata": {
        "id": "R5XernkBQyWy"
      },
      "source": [
        "### Exercise 7 Multidimensional NumPy\n",
        "\n",
        "(1) Create a 2-dimensional NumPy array of 45 random integers, from 0-100.\n",
        "\n",
        "(2) Retrieve the elements at row index 2.\n",
        "\n",
        "(3) Retrieve the elements at column index 3.\n",
        "\n",
        "(4) Retrieve the elements at row indexes 1 and 4.\n",
        "\n",
        "(5) Retrieve the elements at column indexes 1 and 4.\n",
        "\n",
        "(6) Get the mean of the even numbers in row index 4.\n",
        "\n",
        "(7) Get the mean of the odd numbers in column index 4."
      ]
    },
    {
      "cell_type": "code",
      "metadata": {
        "colab": {
          "base_uri": "https://localhost:8080/"
        },
        "id": "D-x1EJPZfGl0",
        "outputId": "15f15e1d-9395-48eb-839e-1eff74677fdb"
      },
      "source": [
        "a = np.random.randint(0, 100, [9,5]) #1\n",
        "print(f\"array:\\n {a}\") \n",
        "print(f\"the elements at row index 2.: {a[2]}\") #2\n",
        "print(f\"the elements at column index 3.: {a[:,3]}\") #3\n",
        "print(f\"the elements at row index 1 and 4.: {a[[1,4]]}\") #4\n",
        "print(f\"the elements at column index 1 and 4.: {a[:,[1,4]]}\") #5\n",
        "print(f\"the mean of the even numbers in row index 4.: {a[4][a[4]%2==0].mean()}\") #6\n",
        "print(f\"the mean of the odd numbers in column index 4.: {a[:,4][a[:,4]%2!=0].mean()}\") #7"
      ],
      "execution_count": 14,
      "outputs": [
        {
          "output_type": "stream",
          "name": "stdout",
          "text": [
            "array:\n",
            " [[35 13 79 13 11]\n",
            " [61 23 69 11  0]\n",
            " [51 10 72 63 47]\n",
            " [26 59 73 88 30]\n",
            " [39 30 25 66  7]\n",
            " [26 31 56 47 99]\n",
            " [23 24 20 48 87]\n",
            " [56 51 62  6 48]\n",
            " [85 88 86 60 53]]\n",
            "the elements at row index 2.: [51 10 72 63 47]\n",
            "the elements at column index 3.: [13 11 63 88 66 47 48  6 60]\n",
            "the elements at row index 1 and 4.: [[61 23 69 11  0]\n",
            " [39 30 25 66  7]]\n",
            "the elements at column index 1 and 4.: [[13 11]\n",
            " [23  0]\n",
            " [10 47]\n",
            " [59 30]\n",
            " [30  7]\n",
            " [31 99]\n",
            " [24 87]\n",
            " [51 48]\n",
            " [88 53]]\n",
            "the mean of the even numbers in row index 4.: 48.0\n",
            "the mean of the odd numbers in column index 4.: 50.666666666666664\n"
          ]
        }
      ]
    },
    {
      "cell_type": "markdown",
      "metadata": {
        "id": "DiulJ_WXQyWy"
      },
      "source": [
        "### Exercise 8 More Multidimensional\n",
        "\n",
        "(1) Create a 6x6 NumPy array with random integers from 0-100.\n",
        "\n",
        "(2) What is the mean of each column?\n",
        "\n",
        "(3) Replace all even numbers in the array with twice their values. (So\n",
        "    20 will become 40, and 40 will become 80.)\n",
        "\n",
        "(4) Once again, calculate the mean of each column\n",
        "\n",
        "(5) Now transpose the array and calculate the mean of each row.  Is it\n",
        "    the same as you got before?\n",
        "\n",
        "(6) Now sort each of the columns in the transposed array.  What does\n",
        "    it look like now?"
      ]
    },
    {
      "cell_type": "code",
      "metadata": {
        "id": "o5QABPjxQyWz",
        "colab": {
          "base_uri": "https://localhost:8080/"
        },
        "outputId": "a1d90de3-015c-4c0d-d925-c754fa3bba6e"
      },
      "source": [
        "a = np.random.randint(0, 100, [6,6]) #1\n",
        "print(\"array:\\n\",a)\n",
        "# for #2\n",
        "for i in range(6):\n",
        "  print(f\"mean of column index {i}:{a[:,i].mean()}\")\n",
        "\n",
        "print(np.where(a%2==0, a*2, a)) # 3\n",
        "# for #4\n",
        "for i in range(6):\n",
        "  print(f\"mean of column index {i}:{a[:,i].mean()}\")\n",
        "\n",
        "# for #5\n",
        "b = a.T\n",
        "print(f\"transposed array:\\n{b}\")\n",
        "for i in range(6):\n",
        "  print(f\"mean of row index {i}:{b[i].mean()}\")\n",
        "  if (a[:,i].mean()==b[i].mean()):\n",
        "    print(f\"mean of row index {i} of transposed array is equal to that of column index {i} of original array\\n\")\n",
        "  else:\n",
        "    print(f\"mean of row index {i} of transposed array is not equal to that of column index {i} of original array\\n\")\n",
        "\n",
        "# for #6\n",
        "# 1. Get the argsort indices along each col with axis=0\n",
        "# 2 . Use indexing to use argsort array for selecting rows i.e. \n",
        "#     to index into the first dimension and use another range array to index into the second dimension, \n",
        "#     so that it would cover argsort array indices across all the columns\n",
        "print(\"after sorting each of the columns in the transposed array:\\n\", b[b.argsort(axis=0), np.arange(b.argsort(axis=0).shape[1])])"
      ],
      "execution_count": 15,
      "outputs": [
        {
          "output_type": "stream",
          "name": "stdout",
          "text": [
            "array:\n",
            " [[28 54 97 48 45 91]\n",
            " [50 84 36  1  6 97]\n",
            " [58 46 10 98 68 10]\n",
            " [50 86 33  8 60  4]\n",
            " [99 96 70  1 43 24]\n",
            " [17 26 72 70 57 10]]\n",
            "mean of column index 0:50.333333333333336\n",
            "mean of column index 1:65.33333333333333\n",
            "mean of column index 2:53.0\n",
            "mean of column index 3:37.666666666666664\n",
            "mean of column index 4:46.5\n",
            "mean of column index 5:39.333333333333336\n",
            "[[ 56 108  97  96  45  91]\n",
            " [100 168  72   1  12  97]\n",
            " [116  92  20 196 136  20]\n",
            " [100 172  33  16 120   8]\n",
            " [ 99 192 140   1  43  48]\n",
            " [ 17  52 144 140  57  20]]\n",
            "mean of column index 0:50.333333333333336\n",
            "mean of column index 1:65.33333333333333\n",
            "mean of column index 2:53.0\n",
            "mean of column index 3:37.666666666666664\n",
            "mean of column index 4:46.5\n",
            "mean of column index 5:39.333333333333336\n",
            "transposed array:\n",
            "[[28 50 58 50 99 17]\n",
            " [54 84 46 86 96 26]\n",
            " [97 36 10 33 70 72]\n",
            " [48  1 98  8  1 70]\n",
            " [45  6 68 60 43 57]\n",
            " [91 97 10  4 24 10]]\n",
            "mean of row index 0:50.333333333333336\n",
            "mean of row index 0 of transposed array is equal to that of column index 0 of original array\n",
            "\n",
            "mean of row index 1:65.33333333333333\n",
            "mean of row index 1 of transposed array is equal to that of column index 1 of original array\n",
            "\n",
            "mean of row index 2:53.0\n",
            "mean of row index 2 of transposed array is equal to that of column index 2 of original array\n",
            "\n",
            "mean of row index 3:37.666666666666664\n",
            "mean of row index 3 of transposed array is equal to that of column index 3 of original array\n",
            "\n",
            "mean of row index 4:46.5\n",
            "mean of row index 4 of transposed array is equal to that of column index 4 of original array\n",
            "\n",
            "mean of row index 5:39.333333333333336\n",
            "mean of row index 5 of transposed array is equal to that of column index 5 of original array\n",
            "\n",
            "after sorting each of the columns in the transposed array:\n",
            " [[28  1 10  4  1 10]\n",
            " [45  6 10  8 24 17]\n",
            " [48 36 46 33 43 26]\n",
            " [54 50 58 50 70 57]\n",
            " [91 84 68 60 96 70]\n",
            " [97 97 98 86 99 72]]\n"
          ]
        }
      ]
    }
  ]
}